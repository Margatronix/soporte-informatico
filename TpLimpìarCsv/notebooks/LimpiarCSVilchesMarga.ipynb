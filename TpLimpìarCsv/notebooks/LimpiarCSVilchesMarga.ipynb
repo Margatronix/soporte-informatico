{
 "cells": [
  {
   "cell_type": "code",
   "execution_count": 1,
   "metadata": {
    "collapsed": true
   },
   "outputs": [],
   "source": [
    "import pandas as pd\n",
    "import numpy as np"
   ]
  },
  {
   "cell_type": "code",
   "execution_count": null,
   "outputs": [],
   "source": [
    "def arreglar_columnas(valor):\n",
    "    for i in range(len(valor)):\n",
    "        valor[i] = valor[i].replace(\" \",\"\")\n",
    "    return valor\n",
    "\n",
    "def resolver_viajeros(valor):\n",
    "    valor = str(valor)\n",
    "    if valor == '':\n",
    "        valor = \"null\"\n",
    "    return valor\n",
    "\n",
    "def resolver_observaciones(valor):\n",
    "    valor = str(valor)\n",
    "    if valor == '\"\"':\n",
    "        valor = \"ninguna\"\n",
    "    return valor\n",
    "csv = pd.read_csv(\"../data/viajeros-hospedados-residentes-y-no-residentes-por-destino.csv\")\n",
    "\n",
    "csvColumnas = list(csv.columns)\n",
    "csv.columns = arreglar_columnas(csvColumnas)\n",
    "\n",
    "csv['viajeros'] = csv['viajeros'].apply(resolver_viajeros())\n",
    "\n",
    "csv['observaciones'] = csv['observaciones'].apply(resolver_observaciones())\n",
    "\n",
    "csv.dropna(inplace=True)\n",
    "print(csv)"
   ],
   "metadata": {
    "collapsed": false
   }
  }
 ],
 "metadata": {
  "kernelspec": {
   "display_name": "Python 3",
   "language": "python",
   "name": "python3"
  },
  "language_info": {
   "codemirror_mode": {
    "name": "ipython",
    "version": 2
   },
   "file_extension": ".py",
   "mimetype": "text/x-python",
   "name": "python",
   "nbconvert_exporter": "python",
   "pygments_lexer": "ipython2",
   "version": "2.7.6"
  }
 },
 "nbformat": 4,
 "nbformat_minor": 0
}
